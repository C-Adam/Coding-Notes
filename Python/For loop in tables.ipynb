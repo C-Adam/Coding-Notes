{
 "cells": [
  {
   "cell_type": "code",
   "execution_count": 1,
   "metadata": {},
   "outputs": [],
   "source": [
    "givenNumber = int(input(\"Enter five numbers: \"))\n",
    "\n",
    "separatedDigits = [int(i) for i in str(givenNumber)]\n",
    "reversedDigits = separatedDigits.copy()\n",
    "reversedDigits.reverse()\n",
    "\n",
    "if separatedDigits == reversedDigits:\n",
    "    print(\"Palindrome found!\")\n",
    "else:\n",
    "    print(\"Palindrome not found!\")\n",
    "\n",
    "print(separatedDigits)\n",
    "print(reversedDigits)"
   ]
  }
 ],
 "metadata": {
  "kernelspec": {
   "display_name": "base",
   "language": "python",
   "name": "python3"
  },
  "language_info": {
   "codemirror_mode": {
    "name": "ipython",
    "version": 3
   },
   "file_extension": ".py",
   "mimetype": "text/x-python",
   "name": "python",
   "nbconvert_exporter": "python",
   "pygments_lexer": "ipython3",
   "version": "3.11.4"
  },
  "orig_nbformat": 4
 },
 "nbformat": 4,
 "nbformat_minor": 2
}
